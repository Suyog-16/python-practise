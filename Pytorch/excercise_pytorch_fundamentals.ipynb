{
 "cells": [
  {
   "cell_type": "code",
   "execution_count": 1,
   "metadata": {},
   "outputs": [],
   "source": [
    "import torch"
   ]
  },
  {
   "cell_type": "markdown",
   "metadata": {},
   "source": [
    "1) Documentation reading - A big part of deep learning (and learning to code in general) is getting familiar with the documentation of a certain framework you're using. We'll be using the PyTorch documentation a lot throughout the rest of this course. So I'd recommend spending 10-minutes reading the following (it's okay if you don't get some things for now, the focus is not yet full understanding, it's awareness). See the documentation on torch.Tensor and for torch.cuda."
   ]
  },
  {
   "cell_type": "markdown",
   "metadata": {},
   "source": [
    "2) Create a random tensor with shape (7, 7)."
   ]
  },
  {
   "cell_type": "code",
   "execution_count": 3,
   "metadata": {},
   "outputs": [
    {
     "data": {
      "text/plain": [
       "(tensor([[0.1798, 0.4475, 0.6315, 0.4976, 0.3559, 0.4276, 0.5125],\n",
       "         [0.0203, 0.9890, 0.3772, 0.7217, 0.9131, 0.5005, 0.2675],\n",
       "         [0.3430, 0.5922, 0.7580, 0.4986, 0.7712, 0.3339, 0.2362],\n",
       "         [0.1427, 0.5709, 0.7757, 0.9367, 0.6745, 0.4646, 0.8139],\n",
       "         [0.8818, 0.0733, 0.2670, 0.5991, 0.2714, 0.1026, 0.8351],\n",
       "         [0.0598, 0.9365, 0.9659, 0.7761, 0.2031, 0.7135, 0.2111],\n",
       "         [0.9322, 0.0765, 0.3383, 0.9018, 0.3401, 0.5078, 0.7553]]),\n",
       " torch.Size([7, 7]))"
      ]
     },
     "execution_count": 3,
     "metadata": {},
     "output_type": "execute_result"
    }
   ],
   "source": [
    "tensor = torch.rand(size = (7,7))\n",
    "tensor,tensor.shape\n"
   ]
  },
  {
   "cell_type": "markdown",
   "metadata": {},
   "source": [
    "3) Perform a matrix multiplication on the tensor from 2 with another random tensor with shape (1, 7) (hint: you may have to transpose the second tensor)."
   ]
  },
  {
   "cell_type": "code",
   "execution_count": 5,
   "metadata": {},
   "outputs": [
    {
     "data": {
      "text/plain": [
       "tensor([[0.0556, 0.0676, 0.7940, 0.3507, 0.4939, 0.1195, 0.6678]])"
      ]
     },
     "execution_count": 5,
     "metadata": {},
     "output_type": "execute_result"
    }
   ],
   "source": [
    "# creating a tensor of shape(1,7)\n",
    "tensor_a = torch.rand(size = (1,7))\n",
    "tensor_a"
   ]
  },
  {
   "cell_type": "markdown",
   "metadata": {},
   "source": [
    "Matrix multiplication with out previous tensor (7,7) and the new tensor (1,7) is not possible as the inner dimensions are not the same. So we need to take matrix transpose of tensor_a for performing the matrix multiplication"
   ]
  },
  {
   "cell_type": "code",
   "execution_count": 10,
   "metadata": {},
   "outputs": [
    {
     "data": {
      "text/plain": [
       "tensor([[1.2853],\n",
       "        [1.3101],\n",
       "        [1.4145],\n",
       "        [1.9233],\n",
       "        [1.1802],\n",
       "        [1.4324],\n",
       "        [1.3750]])"
      ]
     },
     "execution_count": 10,
     "metadata": {},
     "output_type": "execute_result"
    }
   ],
   "source": [
    "tensor_a = tensor_a.T\n",
    "tensor_mm = torch.mm(tensor,tensor_a)\n",
    "tensor_mm"
   ]
  },
  {
   "cell_type": "markdown",
   "metadata": {},
   "source": [
    "4) Set the random seed to 0 and do exercises 2 & 3 over again."
   ]
  },
  {
   "cell_type": "code",
   "execution_count": 5,
   "metadata": {},
   "outputs": [
    {
     "data": {
      "text/plain": [
       "tensor([[1.5985],\n",
       "        [1.1173],\n",
       "        [1.2741],\n",
       "        [1.6838],\n",
       "        [0.8279],\n",
       "        [1.0347],\n",
       "        [1.2498]])"
      ]
     },
     "execution_count": 5,
     "metadata": {},
     "output_type": "execute_result"
    }
   ],
   "source": [
    "RANDOM_SEED = 0\n",
    "torch.manual_seed(seed= RANDOM_SEED)\n",
    "tensor_A = torch.rand(size=(7,7))\n",
    "torch.manual_seed(seed= RANDOM_SEED)\n",
    "tensor_B = torch.rand(size=(1,7))\n",
    "#Performing matrixmultiplication\n",
    "tensor_mm = torch.mm(tensor_A,tensor_B.T)\n",
    "tensor_mm"
   ]
  },
  {
   "cell_type": "markdown",
   "metadata": {},
   "source": [
    "5) Speaking of random seeds, we saw how to set it with torch.manual_seed() but is there a GPU equivalent? (hint: you'll need to look into the documentation for torch.cuda for this one). If there is, set the GPU random seed to 1234"
   ]
  },
  {
   "cell_type": "code",
   "execution_count": 7,
   "metadata": {},
   "outputs": [],
   "source": [
    "# for gpu\n",
    "torch.cuda.manual_seed(1234)"
   ]
  },
  {
   "cell_type": "markdown",
   "metadata": {},
   "source": [
    "6) Create two random tensors of shape (2, 3) and send them both to the GPU (you'll need access to a GPU for this). Set torch.manual_seed(1234) when creating the tensors (this doesn't have to be the GPU random seed)."
   ]
  },
  {
   "cell_type": "code",
   "execution_count": 8,
   "metadata": {},
   "outputs": [],
   "source": [
    "# creating random tensors\n",
    "RANDOM_SEED = 1234\n",
    "torch.manual_seed(seed=RANDOM_SEED)\n",
    "tensor_X = torch.rand(size=(2,3))\n",
    "torch.manual_seed(seed=RANDOM_SEED)\n",
    "tensor_Y = torch.rand(size=(2,3))\n"
   ]
  },
  {
   "cell_type": "code",
   "execution_count": 11,
   "metadata": {},
   "outputs": [],
   "source": [
    "# sending them to GPU\n",
    "tensor_X = tensor_X.to(device=\"cuda\")\n",
    "tensor_Y = tensor_Y.to(device='cuda')"
   ]
  },
  {
   "cell_type": "markdown",
   "metadata": {},
   "source": [
    "7) Perform a matrix multiplication on the tensors you created in 6 (again, you may have to adjust the shapes of one of the tensors)"
   ]
  },
  {
   "cell_type": "code",
   "execution_count": 14,
   "metadata": {},
   "outputs": [
    {
     "data": {
      "text/plain": [
       "tensor([[0.2299, 0.2161],\n",
       "        [0.2161, 0.6287]], device='cuda:0')"
      ]
     },
     "execution_count": 14,
     "metadata": {},
     "output_type": "execute_result"
    }
   ],
   "source": [
    "tensor_mm = torch.mm(tensor_X,tensor_Y.T)\n",
    "tensor_mm"
   ]
  },
  {
   "cell_type": "markdown",
   "metadata": {},
   "source": [
    "8) Find the maximum and minimum values of the output of 7."
   ]
  },
  {
   "cell_type": "code",
   "execution_count": 15,
   "metadata": {},
   "outputs": [
    {
     "name": "stdout",
     "output_type": "stream",
     "text": [
      "Minimum: 0.21611443161964417\n",
      "Maximum: 0.628727912902832\n"
     ]
    }
   ],
   "source": [
    "min_value = torch.min(tensor_mm)\n",
    "max_value = torch.max(tensor_mm)\n",
    "print(f\"Minimum: {min_value}\")\n",
    "print(f\"Maximum: {max_value}\")\n"
   ]
  },
  {
   "cell_type": "markdown",
   "metadata": {},
   "source": [
    "9) Find the maximum and minimum index values of the output of 7."
   ]
  },
  {
   "cell_type": "code",
   "execution_count": 17,
   "metadata": {},
   "outputs": [
    {
     "data": {
      "text/plain": [
       "(tensor(3, device='cuda:0'), tensor(1, device='cuda:0'))"
      ]
     },
     "execution_count": 17,
     "metadata": {},
     "output_type": "execute_result"
    }
   ],
   "source": [
    "max_index = torch.argmax(tensor_mm)\n",
    "min_index = torch.argmin(tensor_mm)\n",
    "max_index,min_index"
   ]
  },
  {
   "cell_type": "markdown",
   "metadata": {},
   "source": [
    "10) Make a random tensor with shape (1, 1, 1, 10) and then create a new tensor with all the 1 dimensions removed to be left with a tensor of shape (10). Set the seed to 7 when you create it and print out the first tensor and it's shape as well as the second tensor and it's shape."
   ]
  },
  {
   "cell_type": "code",
   "execution_count": 24,
   "metadata": {},
   "outputs": [
    {
     "data": {
      "text/plain": [
       "(tensor([[[[0.5349, 0.1988, 0.6592, 0.6569, 0.2328, 0.4251, 0.2071, 0.6297,\n",
       "            0.3653, 0.8513]]]]),\n",
       " torch.Size([1, 1, 1, 10]))"
      ]
     },
     "execution_count": 24,
     "metadata": {},
     "output_type": "execute_result"
    }
   ],
   "source": [
    "torch.manual_seed(seed=7)\n",
    "inital_tensor = torch.rand(size=(1,1,1,10))\n",
    "inital_tensor,inital_tensor.shape"
   ]
  },
  {
   "cell_type": "code",
   "execution_count": 23,
   "metadata": {},
   "outputs": [
    {
     "data": {
      "text/plain": [
       "(tensor([0.5349, 0.1988, 0.6592, 0.6569, 0.2328, 0.4251, 0.2071, 0.6297, 0.3653,\n",
       "         0.8513]),\n",
       " torch.Size([10]))"
      ]
     },
     "execution_count": 23,
     "metadata": {},
     "output_type": "execute_result"
    }
   ],
   "source": [
    "new_tensor = inital_tensor.reshape(10)\n",
    "new_tensor,new_tensor.shape"
   ]
  }
 ],
 "metadata": {
  "kernelspec": {
   "display_name": "Python 3",
   "language": "python",
   "name": "python3"
  },
  "language_info": {
   "codemirror_mode": {
    "name": "ipython",
    "version": 3
   },
   "file_extension": ".py",
   "mimetype": "text/x-python",
   "name": "python",
   "nbconvert_exporter": "python",
   "pygments_lexer": "ipython3",
   "version": "3.12.3"
  }
 },
 "nbformat": 4,
 "nbformat_minor": 2
}
