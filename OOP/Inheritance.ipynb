{
 "cells": [
  {
   "cell_type": "markdown",
   "metadata": {},
   "source": [
    "# Inheritance\n",
    "Inheritance is a very useful and important feature of OOP that allows us to derive a new class from a existing one and use the existing methods and feature in the new derived class(child class)"
   ]
  },
  {
   "cell_type": "markdown",
   "metadata": {},
   "source": [
    "## Types of inheritance \n",
    "There are several types of inheritance. They are listed below\n",
    "1) Single Inheritance\n",
    "2) Multiple Inheritance\n",
    "3) Multilevel Inheritance\n",
    "4) Heiarchial Inheritance\n",
    "5) Hybrid Inheritance"
   ]
  },
  {
   "cell_type": "code",
   "execution_count": 8,
   "metadata": {},
   "outputs": [
    {
     "name": "stdout",
     "output_type": "stream",
     "text": [
      "Computer Engineering is the most challenging and AI is the most popular thing now\n",
      "The Computer Engineering is going have to do a Project Mangement\n"
     ]
    }
   ],
   "source": [
    "# Example of Single Inhertitance\n",
    "class Engineering:\n",
    "    def __init__(self,faculty,jobs):\n",
    "        self.faculty = faculty\n",
    "        self.jobs = jobs\n",
    "    def carrer(self):\n",
    "        return f'The {self.faculty} is going have to do a {self.jobs}'\n",
    "class Computer_enginneering(Engineering):\n",
    "    def __init__(self, faculty, jobs,branch):\n",
    "        super().__init__(faculty, jobs) # super function give access to methods and fucntion from parent class\n",
    "        self.branch = branch\n",
    "    def info(self):\n",
    "        return f\"{self.faculty} is the most challenging and {self.branch} is the most popular thing now\"\n",
    "\n",
    "bct = Computer_enginneering(\"Computer Engineering\", \"Project Mangement\",\"AI\")#creating an object of derived class\n",
    "print(bct.info())\n",
    "print(bct.carrer())# This is the method from the Engineering class that was inherited and now accessed by the object of the derived class"
   ]
  },
  {
   "cell_type": "code",
   "execution_count": null,
   "metadata": {},
   "outputs": [],
   "source": [
    "#Example of Multiple Inheritance"
   ]
  }
 ],
 "metadata": {
  "kernelspec": {
   "display_name": "Python 3",
   "language": "python",
   "name": "python3"
  },
  "language_info": {
   "codemirror_mode": {
    "name": "ipython",
    "version": 3
   },
   "file_extension": ".py",
   "mimetype": "text/x-python",
   "name": "python",
   "nbconvert_exporter": "python",
   "pygments_lexer": "ipython3",
   "version": "3.12.3"
  }
 },
 "nbformat": 4,
 "nbformat_minor": 2
}
