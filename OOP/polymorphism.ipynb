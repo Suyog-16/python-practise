{
 "cells": [
  {
   "cell_type": "markdown",
   "metadata": {},
   "source": [
    "# Polymorphism\n",
    "The word Polymorphism is made up of two words \"poly\" meaning many and \"morph\" meaning form, manyforms. It refers to the ability of an object to respond to same method/functions with different parameters or datatype\n",
    "\n",
    "#### There are different types of polymorphism, they are:\n",
    "1) Method Overiding(Runtime polymorphism)\n",
    "2) Method Overloading(Ad hoc programming)\n",
    "3) Operator Overloading\n",
    "\n",
    "They are explained below with suitable examples\n"
   ]
  },
  {
   "cell_type": "code",
   "execution_count": 7,
   "metadata": {},
   "outputs": [
    {
     "name": "stdout",
     "output_type": "stream",
     "text": [
      "The HNTteacher is teaching\n",
      "The HNT teacher is teaching\n"
     ]
    }
   ],
   "source": [
    "#Method overriding (Runtime polymorphism)\n",
    "\n",
    "class Teacher:\n",
    "    def teach(self,name):\n",
    "        print(f\"Teacher {name} is teaching\")\n",
    "class Science_teacher(Teacher):\n",
    "    def teach(self,name):\n",
    "        print(f\"Teacher {name} is teaching\")\n",
    "class Maths_teacher(Teacher):\n",
    "    def teach(self,name):\n",
    "        print(f\"Teacher {name} is teaching\")\n",
    "\n",
    "object = [Science_teacher(),Maths_teacher()]\n",
    "for o in object:\n",
    "    o.teach(\"Tim\")\n",
    "\n",
    "\n",
    "\n"
   ]
  },
  {
   "cell_type": "markdown",
   "metadata": {},
   "source": [
    "## Method overloading(Ad hoc programming)\n",
    "This allows for methods to have same name but different parameters gives different results, meaning if we have a method called add it will return differnt sum depending upon the no. of arguments\n",
    "\n",
    "Although Ad Hoc Polymorphism is not supported in python we can use *args and **kwargs to achieve Ad hoc Polymorphism\n"
   ]
  },
  {
   "cell_type": "code",
   "execution_count": null,
   "metadata": {},
   "outputs": [],
   "source": [
    "#2 Method overiding without using default arguments or **kwargs and *args\n",
    "\n",
    "class addition:\n",
    "    def add(self,a,b,):\n",
    "        return a + b\n",
    "    def add(self,a,b,c):\n",
    "        return a + b + c\n",
    "m = addition()\n",
    "print(m.add(1,2)) # This is the wrong way to do this and will throw and error\n",
    "\n"
   ]
  },
  {
   "cell_type": "code",
   "execution_count": 3,
   "metadata": {},
   "outputs": [
    {
     "name": "stdout",
     "output_type": "stream",
     "text": [
      "3\n"
     ]
    }
   ],
   "source": [
    "# Method overloading with default arguments to see what changes\n",
    "\n",
    "class addition:\n",
    "    def add(self,a,b,c=0):\n",
    "        return a + b\n",
    "    def add(self,a,b,c=0):\n",
    "        return a + b + c\n",
    "m = addition()\n",
    "print(m.add(1,2))\n",
    "\n",
    "\"\"\"This works because the third arugument here is extra meaning when it\n",
    "is used it takes the value we provide but when we provide only 2 arguments\n",
    "it takes the default value of zero we have set\n",
    "\n",
    "But this will throw error when we try to add four variables as we havent\n",
    "given any default argument to the fourth argument, so this is not the best approach\n",
    "\n",
    "\"\"\"\n",
    "    "
   ]
  },
  {
   "cell_type": "code",
   "execution_count": 14,
   "metadata": {},
   "outputs": [
    {
     "name": "stdout",
     "output_type": "stream",
     "text": [
      "55\n"
     ]
    }
   ],
   "source": [
    "# Method overloading with kwargs and args\n",
    "\n",
    "def sample(a,*args):\n",
    "    #return a + args  ---> we cant do this because arga are tuples, and we cant\n",
    "    # add tuple with integer so sum calculates the sum of elements in tuple and adds them to a integer\n",
    "    return a + sum(args)\n",
    "    \n",
    "        \n",
    "print(sample(1,2,3,4,5,6,7,8,9,10))\n"
   ]
  },
  {
   "cell_type": "code",
   "execution_count": null,
   "metadata": {},
   "outputs": [],
   "source": []
  }
 ],
 "metadata": {
  "kernelspec": {
   "display_name": "Python 3",
   "language": "python",
   "name": "python3"
  },
  "language_info": {
   "codemirror_mode": {
    "name": "ipython",
    "version": 3
   },
   "file_extension": ".py",
   "mimetype": "text/x-python",
   "name": "python",
   "nbconvert_exporter": "python",
   "pygments_lexer": "ipython3",
   "version": "3.12.3"
  }
 },
 "nbformat": 4,
 "nbformat_minor": 2
}
