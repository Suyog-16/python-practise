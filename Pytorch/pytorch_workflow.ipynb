{
 "cells": [
  {
   "cell_type": "markdown",
   "metadata": {},
   "source": [
    "# Pytorch Workflow Fundamentals\n"
   ]
  },
  {
   "cell_type": "markdown",
   "metadata": {},
   "source": [
    "Here,we are going to cover\n",
    "1) Getting data ready\tData can be almost anything but to get started we're going to create a simple straight line\n",
    "2. Building a model\tHere we'll create a model to learn patterns in the data, we'll also choose a loss function, optimizer and build a training loop.\n",
    "3. Fitting the model to data (training)\tWe've got data and a model, now let's let the model (try to) find patterns in the (training) data.\n",
    "4. Making predictions and evaluating a model (inference)\tOur model's found patterns in the data, let's compare its findings to the actual (testing) data.\n",
    "5. Saving and loading a model\tYou may want to use your model elsewhere, or come back to it later, here we'll cover that.\n",
    "6. Putting it all together"
   ]
  },
  {
   "cell_type": "code",
   "execution_count": 1,
   "metadata": {},
   "outputs": [],
   "source": [
    "import torch\n",
    "import matplotlib.pyplot as plt\n",
    "from torch import nn"
   ]
  },
  {
   "cell_type": "code",
   "execution_count": 2,
   "metadata": {},
   "outputs": [
    {
     "data": {
      "text/plain": [
       "'2.4.1+cu124'"
      ]
     },
     "execution_count": 2,
     "metadata": {},
     "output_type": "execute_result"
    }
   ],
   "source": [
    "# checking pytorch version\n",
    "torch.__version__"
   ]
  },
  {
   "cell_type": "markdown",
   "metadata": {},
   "source": [
    "# 1)  Data (preparing and loading)\n",
    "Here, we will use linear regression with known parameters.then we'll use PyTorch to see if we can build model to estimate these parameters using gradient descent."
   ]
  },
  {
   "cell_type": "code",
   "execution_count": 3,
   "metadata": {},
   "outputs": [
    {
     "data": {
      "text/plain": [
       "(tensor([[0.0000],\n",
       "         [0.0200],\n",
       "         [0.0400],\n",
       "         [0.0600],\n",
       "         [0.0800],\n",
       "         [0.1000],\n",
       "         [0.1200],\n",
       "         [0.1400],\n",
       "         [0.1600],\n",
       "         [0.1800]]),\n",
       " tensor([[0.3000],\n",
       "         [0.3140],\n",
       "         [0.3280],\n",
       "         [0.3420],\n",
       "         [0.3560],\n",
       "         [0.3700],\n",
       "         [0.3840],\n",
       "         [0.3980],\n",
       "         [0.4120],\n",
       "         [0.4260]]))"
      ]
     },
     "execution_count": 3,
     "metadata": {},
     "output_type": "execute_result"
    }
   ],
   "source": [
    "#Creatinf known parameters(w and b)\n",
    "weight = 0.7\n",
    "bias = 0.3\n",
    "\n",
    "#create data\n",
    "start = 0\n",
    "end = 1\n",
    "step = 0.02\n",
    "X = torch.arange(start,end,step).unsqueeze(dim=1)# adds one dimension to 1st dimension\n",
    "y = weight * X + bias\n",
    "# let's see what X and y look like\n",
    "X[:10],y[:10]"
   ]
  },
  {
   "cell_type": "markdown",
   "metadata": {},
   "source": [
    "### Spliting data into training and test sets"
   ]
  },
  {
   "cell_type": "code",
   "execution_count": 4,
   "metadata": {},
   "outputs": [
    {
     "data": {
      "text/plain": [
       "(40, 40, 10, 10)"
      ]
     },
     "execution_count": 4,
     "metadata": {},
     "output_type": "execute_result"
    }
   ],
   "source": [
    "train_split = int(0.8* len(X)) # requires and int for slicing\n",
    "X_train,y_train = X[:train_split],y[:train_split]\n",
    "X_test,y_test = X[train_split:],y[train_split:]\n",
    "len(X_train),len(y_train),len(X_test),len(y_test)\n"
   ]
  },
  {
   "cell_type": "markdown",
   "metadata": {},
   "source": [
    "Lets try to visualize the relationship between X_train and y_train"
   ]
  },
  {
   "cell_type": "code",
   "execution_count": 5,
   "metadata": {},
   "outputs": [],
   "source": [
    "# lets create a function to visualize \n",
    "def plot_prediction(train_data=X_train,\n",
    "                    train_label=y_train,\n",
    "                    test_data = X_test,\n",
    "                    test_label = y_test,predictions =None ):\n",
    "    plt.figure(figsize=(10,7))\n",
    "    #for training data\n",
    "    plt.scatter(train_data,train_label, c=\"black\",s=10,label=\"Training Data\")\n",
    "    #for test data\n",
    "    plt.scatter(test_data,test_label, c=\"red\",s=10,label=\"Testing Data\")\n",
    "    if predictions is not None:\n",
    "        plt.scatter(test_data,predictions,c='blue',s=10,label=\"Prediction\")\n",
    "    plt.show()\n",
    "   "
   ]
  },
  {
   "cell_type": "code",
   "execution_count": 6,
   "metadata": {},
   "outputs": [
    {
     "data": {
      "image/png": "[encoded data removed]",
      "text/plain": [
       "<Figure size 1000x700 with 1 Axes>"
      ]
     },
     "metadata": {},
     "output_type": "display_data"
    }
   ],
   "source": [
    "plot_prediction()"
   ]
  },
  {
   "cell_type": "markdown",
   "metadata": {},
   "source": [
    "## 2) Build Model\n",
    "Now, we will be using black dots to predict red dots"
   ]
  },
  {
   "cell_type": "code",
   "execution_count": 7,
   "metadata": {},
   "outputs": [],
   "source": [
    "class LinearRegressionModel(nn.Module):\n",
    "    def __init__(self):\n",
    "        super().__init__()\n",
    "        # creates a random tensor for weight to start out with \n",
    "        self.weight = nn.Parameter(torch.randn(1,dtype=torch.float,requires_grad=True))\n",
    "\n",
    "        self.bias = nn.Parameter(torch.randn(1,dtype=torch.float,requires_grad=True))\n",
    "    def forward(self,x: torch.Tensor)-> torch.Tensor:\n",
    "        return self.weight * x + self.bias"
   ]
  },
  {
   "cell_type": "markdown",
   "metadata": {},
   "source": [
    "Explantion: Here we have a class LinearRegressionModel which inherits from a base class nn.module(contains building blocks for neural network). we also use a special class nn.Paramters in pytorch that is used to indicate that a particular tensor is learnable.When a tensor is wrapped in nn.Parameter, it is automatically added to the model's parameters. This means that when you call model.parameters() in PyTorch, it will include this parameter in the returned iterable. You can learn about it in it's official documentation"
   ]
  },
  {
   "cell_type": "markdown",
   "metadata": {},
   "source": [
    "### Checking the contents of Pytorch model\n"
   ]
  },
  {
   "cell_type": "code",
   "execution_count": 8,
   "metadata": {},
   "outputs": [
    {
     "data": {
      "text/plain": [
       "[Parameter containing:\n",
       " tensor([0.3367], requires_grad=True),\n",
       " Parameter containing:\n",
       " tensor([0.1288], requires_grad=True)]"
      ]
     },
     "execution_count": 8,
     "metadata": {},
     "output_type": "execute_result"
    }
   ],
   "source": [
    "# set manuail seed as nn.Parameters are randomly initialized\n",
    "torch.manual_seed(42)\n",
    "\n",
    "#lets create a instance of the model class\n",
    "model = LinearRegressionModel()\n",
    "\n",
    "#check the nn.Parameters \n",
    "list(model.parameters())\n"
   ]
  },
  {
   "cell_type": "code",
   "execution_count": 9,
   "metadata": {},
   "outputs": [
    {
     "data": {
      "text/plain": [
       "OrderedDict([('weight', tensor([0.3367])), ('bias', tensor([0.1288]))])"
      ]
     },
     "execution_count": 9,
     "metadata": {},
     "output_type": "execute_result"
    }
   ],
   "source": [
    "#list named parameters\n",
    "model.state_dict()"
   ]
  },
  {
   "cell_type": "markdown",
   "metadata": {},
   "source": [
    "### Making predictions through torch.inference_mode()\n"
   ]
  },
  {
   "cell_type": "code",
   "execution_count": 10,
   "metadata": {},
   "outputs": [],
   "source": [
    "# make predictions with model\n",
    "with torch.inference_mode():\n",
    "    y_preds = model(X_test)"
   ]
  },
  {
   "cell_type": "code",
   "execution_count": 11,
   "metadata": {},
   "outputs": [
    {
     "name": "stdout",
     "output_type": "stream",
     "text": [
      "NUmber of testing samples: 10\n",
      "Number of predictions made: 10\n",
      "Predicted values: tensor([[0.3982],\n",
      "        [0.4049],\n",
      "        [0.4116],\n",
      "        [0.4184],\n",
      "        [0.4251],\n",
      "        [0.4318],\n",
      "        [0.4386],\n",
      "        [0.4453],\n",
      "        [0.4520],\n",
      "        [0.4588]])\n"
     ]
    }
   ],
   "source": [
    "# checking the predictions\n",
    "print(f\"NUmber of testing samples: {len(X_test)}\")\n",
    "print(f\"Number of predictions made: {len(y_preds)}\")\n",
    "print(f\"Predicted values: {y_preds}\")"
   ]
  },
  {
   "cell_type": "code",
   "execution_count": 12,
   "metadata": {},
   "outputs": [
    {
     "data": {
      "image/png": "[encoded data removed]",
      "text/plain": [
       "<Figure size 1000x700 with 1 Axes>"
      ]
     },
     "metadata": {},
     "output_type": "display_data"
    }
   ],
   "source": [
    "plot_prediction(predictions=y_preds)"
   ]
  },
  {
   "cell_type": "markdown",
   "metadata": {},
   "source": [
    "As we can see the prediction is way out. we can further check that by subtracting the original label and predicitons"
   ]
  },
  {
   "cell_type": "code",
   "execution_count": 13,
   "metadata": {},
   "outputs": [
    {
     "data": {
      "text/plain": [
       "tensor([[0.4618],\n",
       "        [0.4691],\n",
       "        [0.4764],\n",
       "        [0.4836],\n",
       "        [0.4909],\n",
       "        [0.4982],\n",
       "        [0.5054],\n",
       "        [0.5127],\n",
       "        [0.5200],\n",
       "        [0.5272]])"
      ]
     },
     "execution_count": 13,
     "metadata": {},
     "output_type": "execute_result"
    }
   ],
   "source": [
    "y_test - y_preds"
   ]
  },
  {
   "cell_type": "markdown",
   "metadata": {},
   "source": [
    "### Train Model\n",
    "We can now update it's internal parameters , the weights and bias values we set randomly using nn.Parameter() and torch.randn().To properly represent the data we can optimize it's loss fucntion"
   ]
  },
  {
   "cell_type": "markdown",
   "metadata": {},
   "source": [
    "Loss Function is nothing but a fucntion that measures how off you are with your predictions and our job is to optimize it to have the least error"
   ]
  },
  {
   "cell_type": "markdown",
   "metadata": {},
   "source": [
    "Let's create a loss function and a optimizer we can help improve our model.We use Mean absolute error and for optimizer we use Stochastic gradient descent"
   ]
  },
  {
   "cell_type": "code",
   "execution_count": 14,
   "metadata": {},
   "outputs": [],
   "source": [
    "loss_fn = nn.L1Loss() # MAE loss is same as L1loss\n",
    "\n",
    "#create an optimizer\n",
    "optimizer = torch.optim.SGD(params =model.parameters(),lr =0.01)# lr is the learning rate\n",
    "\n"
   ]
  },
  {
   "cell_type": "markdown",
   "metadata": {},
   "source": [
    "Now lets create a optimization loop in Pytorch\n",
    "1) Forward pass - The model goes through all of the training data once, performing its forward() function calculations. \n",
    "\n",
    "2) Calculate the loss - The model's outputs (predictions) are compared to the ground truth and evaluated to see how wrong they are.\n",
    "\n",
    "3) Zero Gradients - The optimizers gradients are set to zero (they are accumulated by default) so they can be recalculated for the specific training step.\n",
    "\n",
    "4) Perform Backpropagation - Computes the gradient of the loss with respect for every model parameter to be updated (each parameter with requires_grad=True). This is known as backpropagation, hence \"backwards\n",
    "\n",
    "5) Update the optimizer(Gradient Descent) - Update the parameters with requires_grad=True with respect to the loss gradients in order to improve them.\n"
   ]
  },
  {
   "cell_type": "code",
   "execution_count": 15,
   "metadata": {},
   "outputs": [
    {
     "name": "stdout",
     "output_type": "stream",
     "text": [
      "Epoch: 0 | MAE Train Loss : 0.31288138031959534 | MAE Test loss : 0.48106518387794495\n",
      "Epoch: 1 | MAE Train Loss : 0.3013603389263153 | MAE Test loss : 0.4675942063331604\n",
      "Epoch: 2 | MAE Train Loss : 0.28983935713768005 | MAE Test loss : 0.4541231691837311\n",
      "Epoch: 3 | MAE Train Loss : 0.2783183455467224 | MAE Test loss : 0.44065219163894653\n",
      "Epoch: 4 | MAE Train Loss : 0.26679736375808716 | MAE Test loss : 0.4271811842918396\n",
      "Epoch: 5 | MAE Train Loss : 0.2552763521671295 | MAE Test loss : 0.41371020674705505\n",
      "Epoch: 6 | MAE Train Loss : 0.24375534057617188 | MAE Test loss : 0.40023916959762573\n",
      "Epoch: 7 | MAE Train Loss : 0.23223432898521423 | MAE Test loss : 0.3867681920528412\n",
      "Epoch: 8 | MAE Train Loss : 0.22071333229541779 | MAE Test loss : 0.37329721450805664\n",
      "Epoch: 9 | MAE Train Loss : 0.20919232070446014 | MAE Test loss : 0.3598262071609497\n",
      "Epoch: 10 | MAE Train Loss : 0.1976713240146637 | MAE Test loss : 0.3463551998138428\n",
      "Epoch: 11 | MAE Train Loss : 0.18615034222602844 | MAE Test loss : 0.3328842222690582\n",
      "Epoch: 12 | MAE Train Loss : 0.1746293306350708 | MAE Test loss : 0.3194132149219513\n",
      "Epoch: 13 | MAE Train Loss : 0.16310831904411316 | MAE Test loss : 0.30594223737716675\n",
      "Epoch: 14 | MAE Train Loss : 0.1515873372554779 | MAE Test loss : 0.2924712300300598\n",
      "Epoch: 15 | MAE Train Loss : 0.14006635546684265 | MAE Test loss : 0.27900025248527527\n",
      "Epoch: 16 | MAE Train Loss : 0.1285453587770462 | MAE Test loss : 0.2655292749404907\n",
      "Epoch: 17 | MAE Train Loss : 0.11702437698841095 | MAE Test loss : 0.2520582973957062\n",
      "Epoch: 18 | MAE Train Loss : 0.1060912236571312 | MAE Test loss : 0.2395961582660675\n",
      "Epoch: 19 | MAE Train Loss : 0.09681284427642822 | MAE Test loss : 0.22817862033843994\n",
      "Epoch: 20 | MAE Train Loss : 0.08908725529909134 | MAE Test loss : 0.21729660034179688\n",
      "Epoch: 21 | MAE Train Loss : 0.08227583020925522 | MAE Test loss : 0.2069590985774994\n",
      "Epoch: 22 | MAE Train Loss : 0.07638873159885406 | MAE Test loss : 0.19773726165294647\n",
      "Epoch: 23 | MAE Train Loss : 0.07160007208585739 | MAE Test loss : 0.1890866756439209\n",
      "Epoch: 24 | MAE Train Loss : 0.06747635453939438 | MAE Test loss : 0.18101617693901062\n",
      "Epoch: 25 | MAE Train Loss : 0.06395438313484192 | MAE Test loss : 0.17353470623493195\n",
      "Epoch: 26 | MAE Train Loss : 0.06097004935145378 | MAE Test loss : 0.16665108501911163\n",
      "Epoch: 27 | MAE Train Loss : 0.05845819041132927 | MAE Test loss : 0.16037428379058838\n",
      "Epoch: 28 | MAE Train Loss : 0.05635259300470352 | MAE Test loss : 0.15471318364143372\n",
      "Epoch: 29 | MAE Train Loss : 0.0545857772231102 | MAE Test loss : 0.14967669546604156\n",
      "Epoch: 30 | MAE Train Loss : 0.053148526698350906 | MAE Test loss : 0.14464017748832703\n",
      "Epoch: 31 | MAE Train Loss : 0.05181945487856865 | MAE Test loss : 0.14023718237876892\n",
      "Epoch: 32 | MAE Train Loss : 0.05069301277399063 | MAE Test loss : 0.13647659122943878\n",
      "Epoch: 33 | MAE Train Loss : 0.0498228520154953 | MAE Test loss : 0.13271598517894745\n",
      "Epoch: 34 | MAE Train Loss : 0.04895269125699997 | MAE Test loss : 0.12895536422729492\n",
      "Epoch: 35 | MAE Train Loss : 0.04819351062178612 | MAE Test loss : 0.12584610283374786\n",
      "Epoch: 36 | MAE Train Loss : 0.047531817108392715 | MAE Test loss : 0.12273679673671722\n",
      "Epoch: 37 | MAE Train Loss : 0.04692792519927025 | MAE Test loss : 0.1202877014875412\n",
      "Epoch: 38 | MAE Train Loss : 0.04642331600189209 | MAE Test loss : 0.11783860623836517\n",
      "Epoch: 39 | MAE Train Loss : 0.04591871052980423 | MAE Test loss : 0.11538954079151154\n",
      "Epoch: 40 | MAE Train Loss : 0.04543796554207802 | MAE Test loss : 0.11360953003168106\n",
      "Epoch: 41 | MAE Train Loss : 0.04503796249628067 | MAE Test loss : 0.11182951927185059\n",
      "Epoch: 42 | MAE Train Loss : 0.04463795945048332 | MAE Test loss : 0.1100495308637619\n",
      "Epoch: 43 | MAE Train Loss : 0.04423796385526657 | MAE Test loss : 0.10826952755451202\n",
      "Epoch: 44 | MAE Train Loss : 0.04383796453475952 | MAE Test loss : 0.10648951679468155\n",
      "Epoch: 45 | MAE Train Loss : 0.04343796148896217 | MAE Test loss : 0.10470950603485107\n",
      "Epoch: 46 | MAE Train Loss : 0.043074630200862885 | MAE Test loss : 0.10360751301050186\n",
      "Epoch: 47 | MAE Train Loss : 0.04272563382983208 | MAE Test loss : 0.10250549018383026\n",
      "Epoch: 48 | MAE Train Loss : 0.04237663000822067 | MAE Test loss : 0.10140349715948105\n",
      "Epoch: 49 | MAE Train Loss : 0.04202762991189957 | MAE Test loss : 0.10030148178339005\n",
      "Epoch: 50 | MAE Train Loss : 0.04167863354086876 | MAE Test loss : 0.09919948130846024\n",
      "Epoch: 51 | MAE Train Loss : 0.04132963344454765 | MAE Test loss : 0.09809747338294983\n",
      "Epoch: 52 | MAE Train Loss : 0.04098063334822655 | MAE Test loss : 0.09699545800685883\n",
      "Epoch: 53 | MAE Train Loss : 0.04063162952661514 | MAE Test loss : 0.09589345753192902\n",
      "Epoch: 54 | MAE Train Loss : 0.040282636880874634 | MAE Test loss : 0.0947914719581604\n",
      "Epoch: 55 | MAE Train Loss : 0.039933640509843826 | MAE Test loss : 0.09368947893381119\n",
      "Epoch: 56 | MAE Train Loss : 0.03958464413881302 | MAE Test loss : 0.09258746355772018\n",
      "Epoch: 57 | MAE Train Loss : 0.03923564404249191 | MAE Test loss : 0.09148545563220978\n",
      "Epoch: 58 | MAE Train Loss : 0.03888664394617081 | MAE Test loss : 0.09038344770669937\n",
      "Epoch: 59 | MAE Train Loss : 0.0385376438498497 | MAE Test loss : 0.08928143978118896\n",
      "Epoch: 60 | MAE Train Loss : 0.03818932920694351 | MAE Test loss : 0.08886633068323135\n",
      "Epoch: 61 | MAE Train Loss : 0.03785243630409241 | MAE Test loss : 0.08776430785655975\n",
      "Epoch: 62 | MAE Train Loss : 0.0375034399330616 | MAE Test loss : 0.08666229248046875\n",
      "Epoch: 63 | MAE Train Loss : 0.037164121866226196 | MAE Test loss : 0.08624717593193054\n",
      "Epoch: 64 | MAE Train Loss : 0.03681822493672371 | MAE Test loss : 0.08514519035816193\n",
      "Epoch: 65 | MAE Train Loss : 0.03647511452436447 | MAE Test loss : 0.08473004400730133\n",
      "Epoch: 66 | MAE Train Loss : 0.03613303601741791 | MAE Test loss : 0.08362803608179092\n",
      "Epoch: 67 | MAE Train Loss : 0.03578609973192215 | MAE Test loss : 0.08321291208267212\n",
      "Epoch: 68 | MAE Train Loss : 0.03544783592224121 | MAE Test loss : 0.08211090415716171\n",
      "Epoch: 69 | MAE Train Loss : 0.035098835825920105 | MAE Test loss : 0.0810088962316513\n",
      "Epoch: 70 | MAE Train Loss : 0.03476089984178543 | MAE Test loss : 0.0805937647819519\n",
      "Epoch: 71 | MAE Train Loss : 0.03441363573074341 | MAE Test loss : 0.0794917643070221\n",
      "Epoch: 72 | MAE Train Loss : 0.03407188132405281 | MAE Test loss : 0.07907666265964508\n",
      "Epoch: 73 | MAE Train Loss : 0.03372843936085701 | MAE Test loss : 0.07797462493181229\n",
      "Epoch: 74 | MAE Train Loss : 0.03338287025690079 | MAE Test loss : 0.07755951583385468\n",
      "Epoch: 75 | MAE Train Loss : 0.033043231815099716 | MAE Test loss : 0.07645749300718307\n",
      "Epoch: 76 | MAE Train Loss : 0.03269423171877861 | MAE Test loss : 0.07535548508167267\n",
      "Epoch: 77 | MAE Train Loss : 0.032357655465602875 | MAE Test loss : 0.07494036853313446\n",
      "Epoch: 78 | MAE Train Loss : 0.03200903534889221 | MAE Test loss : 0.07383836805820465\n",
      "Epoch: 79 | MAE Train Loss : 0.03166864812374115 | MAE Test loss : 0.07342323660850525\n",
      "Epoch: 80 | MAE Train Loss : 0.03132382780313492 | MAE Test loss : 0.07232122868299484\n",
      "Epoch: 81 | MAE Train Loss : 0.030979642644524574 | MAE Test loss : 0.07190609723329544\n",
      "Epoch: 82 | MAE Train Loss : 0.030638623982667923 | MAE Test loss : 0.07080408930778503\n",
      "Epoch: 83 | MAE Train Loss : 0.0302906334400177 | MAE Test loss : 0.07038896530866623\n",
      "Epoch: 84 | MAE Train Loss : 0.029953425750136375 | MAE Test loss : 0.06928696483373642\n",
      "Epoch: 85 | MAE Train Loss : 0.02960442565381527 | MAE Test loss : 0.06818496435880661\n",
      "Epoch: 86 | MAE Train Loss : 0.029265418648719788 | MAE Test loss : 0.0677698403596878\n",
      "Epoch: 87 | MAE Train Loss : 0.028919223695993423 | MAE Test loss : 0.0666678324341774\n",
      "Epoch: 88 | MAE Train Loss : 0.028576409444212914 | MAE Test loss : 0.066252700984478\n",
      "Epoch: 89 | MAE Train Loss : 0.028234025463461876 | MAE Test loss : 0.06515069305896759\n",
      "Epoch: 90 | MAE Train Loss : 0.02788739837706089 | MAE Test loss : 0.06473556160926819\n",
      "Epoch: 91 | MAE Train Loss : 0.02754882536828518 | MAE Test loss : 0.06363357603549957\n",
      "Epoch: 92 | MAE Train Loss : 0.027199819684028625 | MAE Test loss : 0.06253156810998917\n",
      "Epoch: 93 | MAE Train Loss : 0.026862185448408127 | MAE Test loss : 0.062116436660289764\n",
      "Epoch: 94 | MAE Train Loss : 0.02651461586356163 | MAE Test loss : 0.061014432460069656\n",
      "Epoch: 95 | MAE Train Loss : 0.026173178106546402 | MAE Test loss : 0.06059930846095085\n",
      "Epoch: 96 | MAE Train Loss : 0.025829419493675232 | MAE Test loss : 0.05949730426073074\n",
      "Epoch: 97 | MAE Train Loss : 0.02548416517674923 | MAE Test loss : 0.05908216908574104\n",
      "Epoch: 98 | MAE Train Loss : 0.025144213810563087 | MAE Test loss : 0.057980168610811234\n",
      "Epoch: 99 | MAE Train Loss : 0.02479521557688713 | MAE Test loss : 0.05687814950942993\n"
     ]
    }
   ],
   "source": [
    "torch.manual_seed(42)\n",
    "\n",
    "epochs = 100 # how many times the model will updates it's parameters\n",
    "\n",
    "train_loss_values = [] # empty list to track values\n",
    "test_loss_values = []\n",
    "epochs_count = []\n",
    "\n",
    "for epoch in range(epochs):\n",
    "    model.train() # this is the default state of model\n",
    "    # forward pass on train data using forward() method\n",
    "    y_preds = model(X_train)\n",
    "    # print(y_preds)\n",
    "\n",
    "    # calculating the loss\n",
    "    loss = loss_fn(y_preds,y_train)\n",
    "\n",
    "    #zero grad of the optimizer\n",
    "    optimizer.zero_grad()\n",
    "\n",
    "    # loss backwards\n",
    "    loss.backward()\n",
    "\n",
    "    #progress the optimizer\n",
    "    optimizer.step()\n",
    "\n",
    "    ####-------Testing--------\n",
    "    #put the model is evaluation\n",
    "    model.eval()\n",
    "\n",
    "    with torch.inference_mode():\n",
    "        # forward pass ont test data\n",
    "        test_preds = model(X_test)\n",
    "        # print(test_preds)\n",
    "\n",
    "        # calculating the loss on test data\n",
    "        test_loss = loss_fn(test_preds,y_test.type(torch.float))\n",
    "\n",
    "        # printing out what's happening\n",
    "        if epochs % 10 == 0 :\n",
    "            epochs_count.append(epoch)\n",
    "            train_loss_values.append(loss.detach().numpy())\n",
    "            test_loss_values.append(test_loss.detach().numpy())\n",
    "            print(f\"Epoch: {epoch} | MAE Train Loss : {loss} | MAE Test loss : {test_loss}\")\n",
    "\n"
   ]
  },
  {
   "cell_type": "code",
   "execution_count": 16,
   "metadata": {},
   "outputs": [
    {
     "data": {
      "image/png": "[encoded data removed]",
      "text/plain": [
       "<Figure size 640x480 with 1 Axes>"
      ]
     },
     "metadata": {},
     "output_type": "display_data"
    }
   ],
   "source": [
    "# Plot the loss curves\n",
    "plt.plot(epochs_count, train_loss_values, label=\"Train loss\")\n",
    "plt.plot(epochs_count, test_loss_values, label=\"Test loss\")\n",
    "plt.title(\"Training and test loss curves\")\n",
    "plt.ylabel(\"Loss\")\n",
    "plt.xlabel(\"Epochs\")\n",
    "plt.legend();"
   ]
  },
  {
   "cell_type": "markdown",
   "metadata": {},
   "source": [
    "From the plot above you can see that the loss is decreasing with each epoch.Now lets see how the model predicted vs the original year"
   ]
  },
  {
   "cell_type": "code",
   "execution_count": 17,
   "metadata": {},
   "outputs": [
    {
     "name": "stdout",
     "output_type": "stream",
     "text": [
      "The original value of weight is 0.7 and for bias is 0.3\n",
      "The predicted values is OrderedDict({'weight': tensor([0.5784]), 'bias': tensor([0.3513])})\n"
     ]
    }
   ],
   "source": [
    "print(f\"The original value of weight is {weight} and for bias is {bias}\")\n",
    "print(f\"The predicted values is {model.state_dict()}\")"
   ]
  },
  {
   "cell_type": "markdown",
   "metadata": {},
   "source": [
    "We can see that we somehow came close to the original values we set up\n"
   ]
  },
  {
   "cell_type": "markdown",
   "metadata": {},
   "source": [
    "### Making predictions with a trained Pytorch model(Inference)\n"
   ]
  },
  {
   "cell_type": "markdown",
   "metadata": {},
   "source": [
    "There are three things to remember when making predictions (also called performing inference) with a PyTorch model:\n",
    "\n",
    "1) Set the model in evaluation mode (model.eval()).\n",
    "2) Make the predictions using the inference mode context manager (with torch.inference_mode(): ...).\n",
    "3) All predictions should be made with objects on the same device (e.g. data and model on GPU only or data and model on CPU only)."
   ]
  },
  {
   "cell_type": "code",
   "execution_count": 19,
   "metadata": {},
   "outputs": [
    {
     "data": {
      "text/plain": [
       "tensor([[0.8141],\n",
       "        [0.8256],\n",
       "        [0.8372],\n",
       "        [0.8488],\n",
       "        [0.8603],\n",
       "        [0.8719],\n",
       "        [0.8835],\n",
       "        [0.8950],\n",
       "        [0.9066],\n",
       "        [0.9182]])"
      ]
     },
     "execution_count": 19,
     "metadata": {},
     "output_type": "execute_result"
    }
   ],
   "source": [
    "model.eval()# setting model in evaluation mode\n",
    "with torch.inference_mode():\n",
    "    y_preds = model(X_test)\n",
    "\n",
    "y_preds\n"
   ]
  },
  {
   "cell_type": "markdown",
   "metadata": {},
   "source": [
    "Now lets plot the prediction vs training data and testing data\n"
   ]
  },
  {
   "cell_type": "code",
   "execution_count": 21,
   "metadata": {},
   "outputs": [
    {
     "data": {
      "image/png": "[encoded data removed]",
      "text/plain": [
       "<Figure size 1000x700 with 1 Axes>"
      ]
     },
     "metadata": {},
     "output_type": "display_data"
    }
   ],
   "source": [
    "plot_prediction(predictions=y_preds)"
   ]
  },
  {
   "cell_type": "markdown",
   "metadata": {},
   "source": [
    "As we can see the predicted values are very close to ur original values"
   ]
  },
  {
   "cell_type": "markdown",
   "metadata": {},
   "source": [
    "## Saving and loading a Pytorch model\n",
    "There are three main methods to save your model\n",
    "1) torch.save\n",
    "2) torch.load\n",
    "3) torch.nn.Module.load_state_dict"
   ]
  },
  {
   "cell_type": "markdown",
   "metadata": {},
   "source": [
    "#### Saving a Pytorch model's state_dict()\n",
    "The recommended way for saving and loading a model for inference is by saving and loading a model's state_dict()\n",
    " \n",
    "Here are the steps,\n",
    "1) Create a directory for saving models to called models using Pythons's pathlib module\n",
    "2) Create a file path to save the model to.\n",
    "3) We'll call torch.save(obj, f) where obj is the target model's state_dict() and f is the filename of where to save the model.\n"
   ]
  },
  {
   "cell_type": "code",
   "execution_count": 23,
   "metadata": {},
   "outputs": [
    {
     "name": "stdout",
     "output_type": "stream",
     "text": [
      "Saving model to: models\\01_pytorch_workflow_model_0.pth\n"
     ]
    }
   ],
   "source": [
    "from pathlib import Path\n",
    "\n",
    "# creating a directory for saving model\n",
    "MODEL_PATH = Path(\"models\")\n",
    "MODEL_PATH.mkdir(parents=True,exist_ok=True)\n",
    "\n",
    "#creat model save path\n",
    "MODEL_NAME = \"01_pytorch_workflow_model_0.pth\"\n",
    "MODEL_SAVE_PATH = MODEL_PATH/MODEL_NAME\n",
    "\n",
    "#Save the model state dict\n",
    "print(f\"Saving model to: {MODEL_SAVE_PATH}\")\n",
    "torch.save(obj=model.state_dict(),f=MODEL_SAVE_PATH)"
   ]
  },
  {
   "cell_type": "markdown",
   "metadata": {},
   "source": [
    "### Loading a saved Pytorch model's state_dict()\n",
    "\n",
    "Since we have already saved model state_dict(), we can now load it using torch.nn.Module.load_state_dict(torch.load(f)) where f is the filepath of our saved model state_dict().\n",
    "Note: We have only saved the models state_dict() which is a dictionary of learned parameters and not the entire model  we first have to load the state_dict() with torch.load() and then pass that state_dict() to a new instance of our model (which is a subclass of nn.Module)."
   ]
  },
  {
   "cell_type": "markdown",
   "metadata": {},
   "source": [
    "The disadvantage of  approach (saving the whole model) is that the serialized data is bound to the specific classes and the exact directory structure used when the model is saved...\n",
    "\n",
    "Because of this, your code can break in various ways when used in other projects or after refactors"
   ]
  },
  {
   "cell_type": "code",
   "execution_count": 24,
   "metadata": {},
   "outputs": [
    {
     "name": "stderr",
     "output_type": "stream",
     "text": [
      "C:\\Users\\Acer nitro\\AppData\\Local\\Temp\\ipykernel_5060\\1610774410.py:5: FutureWarning: You are using `torch.load` with `weights_only=False` (the current default value), which uses the default pickle module implicitly. It is possible to construct malicious pickle data which will execute arbitrary code during unpickling (See https://github.com/pytorch/pytorch/blob/main/SECURITY.md#untrusted-models for more details). In a future release, the default value for `weights_only` will be flipped to `True`. This limits the functions that could be executed during unpickling. Arbitrary objects will no longer be allowed to be loaded via this mode unless they are explicitly allowlisted by the user via `torch.serialization.add_safe_globals`. We recommend you start setting `weights_only=True` for any use case where you don't have full control of the loaded file. Please open an issue on GitHub for any issues related to this experimental feature.\n",
      "  loaded_model.load_state_dict(torch.load(MODEL_SAVE_PATH))\n"
     ]
    },
    {
     "data": {
      "text/plain": [
       "<All keys matched successfully>"
      ]
     },
     "execution_count": 24,
     "metadata": {},
     "output_type": "execute_result"
    }
   ],
   "source": [
    "# make a new instance of our model\n",
    "loaded_model = LinearRegressionModel()\n",
    "\n",
    "#load the model\n",
    "loaded_model.load_state_dict(torch.load(MODEL_SAVE_PATH))"
   ]
  },
  {
   "cell_type": "markdown",
   "metadata": {},
   "source": [
    "Now to test our loaded model,lets perform inference as before"
   ]
  },
  {
   "cell_type": "code",
   "execution_count": 26,
   "metadata": {},
   "outputs": [
    {
     "data": {
      "text/plain": [
       "tensor([[0.8141],\n",
       "        [0.8256],\n",
       "        [0.8372],\n",
       "        [0.8488],\n",
       "        [0.8603],\n",
       "        [0.8719],\n",
       "        [0.8835],\n",
       "        [0.8950],\n",
       "        [0.9066],\n",
       "        [0.9182]])"
      ]
     },
     "execution_count": 26,
     "metadata": {},
     "output_type": "execute_result"
    }
   ],
   "source": [
    "loaded_model.eval()\n",
    "\n",
    "with torch.inference_mode():\n",
    "    loaded_model_preds = loaded_model(X_test)\n",
    "\n",
    "loaded_model_preds"
   ]
  },
  {
   "cell_type": "code",
   "execution_count": 27,
   "metadata": {},
   "outputs": [
    {
     "data": {
      "image/png": "[encoded data removed]",
      "text/plain": [
       "<Figure size 1000x700 with 1 Axes>"
      ]
     },
     "metadata": {},
     "output_type": "display_data"
    }
   ],
   "source": [
    "# lets plot it \n",
    "plot_prediction(predictions=loaded_model_preds)"
   ]
  },
  {
   "cell_type": "code",
   "execution_count": null,
   "metadata": {},
   "outputs": [],
   "source": []
  }
 ],
 "metadata": {
  "kernelspec": {
   "display_name": "Python 3",
   "language": "python",
   "name": "python3"
  },
  "language_info": {
   "codemirror_mode": {
    "name": "ipython",
    "version": 3
   },
   "file_extension": ".py",
   "mimetype": "text/x-python",
   "name": "python",
   "nbconvert_exporter": "python",
   "pygments_lexer": "ipython3",
   "version": "3.12.3"
  }
 },
 "nbformat": 4,
 "nbformat_minor": 2
}
