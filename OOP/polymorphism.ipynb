{
 "cells": [
  {
   "cell_type": "markdown",
   "metadata": {},
   "source": [
    "# Polymorphism\n",
    "The word Polymorphism is made up of two words \"poly\" meaning many and \"morph\" meaning form, manyforms. It refers to the ability of an object to respond to same method/functions with different parameters or datatype\n"
   ]
  },
  {
   "cell_type": "code",
   "execution_count": 6,
   "metadata": {},
   "outputs": [
    {
     "ename": "TypeError",
     "evalue": "Science_teacher.teach() missing 1 required positional argument: 'name'",
     "output_type": "error",
     "traceback": [
      "\u001b[1;31m---------------------------------------------------------------------------\u001b[0m",
      "\u001b[1;31mTypeError\u001b[0m                                 Traceback (most recent call last)",
      "Cell \u001b[1;32mIn[6], line 15\u001b[0m\n\u001b[0;32m     13\u001b[0m \u001b[38;5;28mobject\u001b[39m \u001b[38;5;241m=\u001b[39m [Science_teacher(),Maths_teacher()]\n\u001b[0;32m     14\u001b[0m \u001b[38;5;28;01mfor\u001b[39;00m o \u001b[38;5;129;01min\u001b[39;00m \u001b[38;5;28mobject\u001b[39m:\n\u001b[1;32m---> 15\u001b[0m     \u001b[43mo\u001b[49m\u001b[38;5;241;43m.\u001b[39;49m\u001b[43mteach\u001b[49m\u001b[43m(\u001b[49m\u001b[43m)\u001b[49m\n",
      "\u001b[1;31mTypeError\u001b[0m: Science_teacher.teach() missing 1 required positional argument: 'name'"
     ]
    }
   ],
   "source": [
    "#Method overriding (Runtime polymorphism)\n",
    "\n",
    "class Teacher:\n",
    "    def teach(self,name):\n",
    "        print(f\"The {name} teacher is teaching\")\n",
    "class Science_teacher(Teacher):\n",
    "    def teach(self,name):\n",
    "        print(f\"The {name}teacher is teaching\")\n",
    "class Maths_teacher(Teacher):\n",
    "    def teach(self,name):\n",
    "        print(f\"The {name} teacher is teaching\")\n",
    "\n",
    "object = [Science_teacher(),Maths_teacher()]\n",
    "for o in object:\n",
    "    o.teach(\"HNT\")\n",
    "\n",
    "\n",
    "\n"
   ]
  },
  {
   "cell_type": "code",
   "execution_count": null,
   "metadata": {},
   "outputs": [],
   "source": []
  }
 ],
 "metadata": {
  "kernelspec": {
   "display_name": "Python 3",
   "language": "python",
   "name": "python3"
  },
  "language_info": {
   "codemirror_mode": {
    "name": "ipython",
    "version": 3
   },
   "file_extension": ".py",
   "mimetype": "text/x-python",
   "name": "python",
   "nbconvert_exporter": "python",
   "pygments_lexer": "ipython3",
   "version": "3.12.3"
  }
 },
 "nbformat": 4,
 "nbformat_minor": 2
}
