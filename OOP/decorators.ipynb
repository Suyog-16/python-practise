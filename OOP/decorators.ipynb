{
 "cells": [
  {
   "cell_type": "markdown",
   "metadata": {},
   "source": [
    "# Decorators in python\n",
    " Decorators are functions that take another function as a argument and return a wrapper function. Decorator are very useful in modfying a function's/methods behaviour\n",
    "\n"
   ]
  },
  {
   "cell_type": "code",
   "execution_count": 12,
   "metadata": {},
   "outputs": [
    {
     "name": "stdout",
     "output_type": "stream",
     "text": [
      "Before the function is called\n",
      "Hello my name is Sam\n",
      "After the function is called\n"
     ]
    }
   ],
   "source": [
    "#simple demonstration\n",
    "def decorator(func):\n",
    "    def wrapper(name):\n",
    "        print(\"Before the function is called\")\n",
    "        func(name)\n",
    "        print(\"After the function is called\")\n",
    "    return wrapper\n",
    "\n",
    "@decorator # <-- This essentially passes the below function as a argument in decorator function\n",
    "def introduction(name):\n",
    "    \"\"\"Original function that is going to be wrapped\"\"\"\n",
    "    print(f\"Hello my name is {name.title()}\")\n",
    "\n",
    "#The @decorator statement is equivalent to \n",
    "# -> introduction = introduction(name)\n",
    "\n",
    "introduction(\"Sam\") # calling the wrapper function and not the original function introduction()\n"
   ]
  },
  {
   "cell_type": "markdown",
   "metadata": {},
   "source": [
    "## Working Mechanism of the program above\n",
    "After the wrapper function has been called by the line introduction(\"Sam\")\n",
    "1) The decorator function is called with the parameter with a function introduction(name) \n",
    "2) The wrapper function is called now \n",
    "3) The statement \"Before the function is called\" is printed\n",
    "4) The wrapped function \"introduction\" is now executed and therefore prints the msg\n",
    "5) Now, the statement \"After the function is called\" is printed\n",
    "\n",
    "### Conclusion\n",
    "Here, the function called 'introduction' is now wrapped inside the decorater with additional behaviour(here in this case the print statements) given by the wrapper function."
   ]
  }
 ],
 "metadata": {
  "kernelspec": {
   "display_name": "Python 3",
   "language": "python",
   "name": "python3"
  },
  "language_info": {
   "codemirror_mode": {
    "name": "ipython",
    "version": 3
   },
   "file_extension": ".py",
   "mimetype": "text/x-python",
   "name": "python",
   "nbconvert_exporter": "python",
   "pygments_lexer": "ipython3",
   "version": "3.12.3"
  }
 },
 "nbformat": 4,
 "nbformat_minor": 2
}
