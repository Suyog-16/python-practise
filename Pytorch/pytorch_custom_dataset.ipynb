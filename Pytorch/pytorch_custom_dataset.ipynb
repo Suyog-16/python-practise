{
 "cells": [
  {
   "cell_type": "markdown",
   "metadata": {},
   "source": [
    "## 4. Pytorch Custom Datasets\n",
    "Previously we used in-built dataset in Pytorch(FashionMNIST) Here we will be using a custom dataset to build a model"
   ]
  },
  {
   "cell_type": "markdown",
   "metadata": {},
   "source": [
    "### What we're going to cover\n",
    "We will be applying the same workflow we used in the previous notebooks.But instead we will be using our own dataset of pizza,steak and sushi images.\n"
   ]
  },
  {
   "cell_type": "markdown",
   "metadata": {},
   "source": [
    "### 0. Importing Pytorch and seeting up device agnostics"
   ]
  },
  {
   "cell_type": "code",
   "execution_count": 1,
   "metadata": {},
   "outputs": [],
   "source": [
    "import torch\n",
    "from torch import nn"
   ]
  },
  {
   "cell_type": "code",
   "execution_count": 3,
   "metadata": {},
   "outputs": [
    {
     "data": {
      "text/plain": [
       "'cuda'"
      ]
     },
     "execution_count": 3,
     "metadata": {},
     "output_type": "execute_result"
    }
   ],
   "source": [
    "device = \"cuda\" if torch.cuda.is_available() else \"cpu\"\n",
    "device"
   ]
  },
  {
   "cell_type": "markdown",
   "metadata": {},
   "source": [
    "### 1. Get data\n",
    "The data we are going to use is from dataset called \"Food 101 dataset\". This contains 1000 images of 101 different kinds of food, totalling 101,100 images .But ,instead of 101 food classes , we're going to start with 3:pizza,steak and sushi. and intead of 1000 images per classes we're going to start with random 10% and increase from there"
   ]
  },
  {
   "cell_type": "code",
   "execution_count": 4,
   "metadata": {},
   "outputs": [
    {
     "name": "stdout",
     "output_type": "stream",
     "text": [
      "Did not find data\\pizza_steak_sushi directory, creating one...\n",
      "Downloading pizza, steak, sushi data...\n",
      "Unzipping pizza, steak, sushi data...\n"
     ]
    }
   ],
   "source": [
    "import requests\n",
    "import zipfile\n",
    "from pathlib import Path\n",
    "\n",
    "# Setup path to data folder\n",
    "data_path = Path(\"data/\")\n",
    "image_path = data_path / \"pizza_steak_sushi\"\n",
    "\n",
    "# If the image folder doesn't exist, download it and prepare it... \n",
    "if image_path.is_dir():\n",
    "    print(f\"{image_path} directory exists.\")\n",
    "else:\n",
    "    print(f\"Did not find {image_path} directory, creating one...\")\n",
    "    image_path.mkdir(parents=True, exist_ok=True)\n",
    "    \n",
    "    # Download pizza, steak, sushi data\n",
    "    with open(data_path / \"pizza_steak_sushi.zip\", \"wb\") as f:\n",
    "        request = requests.get(\"https://github.com/mrdbourke/pytorch-deep-learning/raw/main/data/pizza_steak_sushi.zip\")\n",
    "        print(\"Downloading pizza, steak, sushi data...\")\n",
    "        f.write(request.content)\n",
    "\n",
    "    # Unzip pizza, steak, sushi data\n",
    "    with zipfile.ZipFile(data_path / \"pizza_steak_sushi.zip\", \"r\") as zip_ref:\n",
    "        print(\"Unzipping pizza, steak, sushi data...\") \n",
    "        zip_ref.extractall(image_path)"
   ]
  },
  {
   "cell_type": "markdown",
   "metadata": {},
   "source": [
    "### 2. Become one with the data(data preparation)\n",
    "Before starting a project or building any kind of model, it's important to know what data you're working with.<br>\n",
    "In our case, we have images of pizza,steak and sushi in standard image classification format.<br>\n",
    "Image classification format contains separate classes of images in seperate directories titled with a particular class name\n",
    "\n"
   ]
  },
  {
   "cell_type": "markdown",
   "metadata": {},
   "source": [
    "The goal will be to **take this data storage structure and turn it into a dataset usable with Pytorch.**"
   ]
  },
  {
   "cell_type": "markdown",
   "metadata": {},
   "source": [
    "We can inspect what's in our data directory by writing a small helper function to walk through each of the subdirectories and count the files present.<br>\n",
    "To do so, we'll use Python's in-built os.walk()"
   ]
  },
  {
   "cell_type": "code",
   "execution_count": 5,
   "metadata": {},
   "outputs": [],
   "source": [
    "import os\n",
    "def walk_through_dir(dir_path):\n",
    "    \"\"\"\n",
    "    Walks through dir_path returning it's contents.\n",
    "    Args:\n",
    "      dir_paths(str or pathlib.Path) : target directory\n",
    "    Returns:\n",
    "      A print out of:\n",
    "      number of subdirectories in dir_path\n",
    "      number of images(files) in each subdirectory\n",
    "      name of each subdirectory\n",
    "    \"\"\"\n",
    "    for dirpath,dirnames,filenames in os.walk(dir_path):\n",
    "        print(f\"There are {len(dirnames)} directories and {len(filenames)} images in '{dirpath}'\")"
   ]
  },
  {
   "cell_type": "code",
   "execution_count": 6,
   "metadata": {},
   "outputs": [
    {
     "name": "stdout",
     "output_type": "stream",
     "text": [
      "There are 2 directories and 0 images in 'data\\pizza_steak_sushi'\n",
      "There are 3 directories and 0 images in 'data\\pizza_steak_sushi\\test'\n",
      "There are 0 directories and 25 images in 'data\\pizza_steak_sushi\\test\\pizza'\n",
      "There are 0 directories and 19 images in 'data\\pizza_steak_sushi\\test\\steak'\n",
      "There are 0 directories and 31 images in 'data\\pizza_steak_sushi\\test\\sushi'\n",
      "There are 3 directories and 0 images in 'data\\pizza_steak_sushi\\train'\n",
      "There are 0 directories and 78 images in 'data\\pizza_steak_sushi\\train\\pizza'\n",
      "There are 0 directories and 75 images in 'data\\pizza_steak_sushi\\train\\steak'\n",
      "There are 0 directories and 72 images in 'data\\pizza_steak_sushi\\train\\sushi'\n"
     ]
    }
   ],
   "source": [
    "walk_through_dir(image_path)"
   ]
  },
  {
   "cell_type": "code",
   "execution_count": null,
   "metadata": {},
   "outputs": [],
   "source": [
    "# let's setup our training and testing paths.\n"
   ]
  }
 ],
 "metadata": {
  "kernelspec": {
   "display_name": "Python 3",
   "language": "python",
   "name": "python3"
  },
  "language_info": {
   "codemirror_mode": {
    "name": "ipython",
    "version": 3
   },
   "file_extension": ".py",
   "mimetype": "text/x-python",
   "name": "python",
   "nbconvert_exporter": "python",
   "pygments_lexer": "ipython3",
   "version": "3.12.3"
  }
 },
 "nbformat": 4,
 "nbformat_minor": 2
}
